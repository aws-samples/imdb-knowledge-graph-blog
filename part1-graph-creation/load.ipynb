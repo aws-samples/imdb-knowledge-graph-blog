{
 "cells": [
  {
   "cell_type": "markdown",
   "id": "3f2ef304",
   "metadata": {},
   "source": [
    "## Load the IMDb data from Amazon S3 into Amazon Neptune\n",
    "To load the data into Amazon Neptune, you can use `%load` ipython magics. This will load all the data from an Amazon S3 location to your Amazon Neptune cluster. You will need to specify the role from your start template and s3 location of the data below."
   ]
  },
  {
   "cell_type": "code",
   "execution_count": null,
   "id": "f1c6b289",
   "metadata": {},
   "outputs": [],
   "source": [
    "role = \"<NeptuneLoadFromS3IAMRoleArn>\"\n",
    "%load -l {role} -s <s3_location> --store-to load_id"
   ]
  },
  {
   "cell_type": "markdown",
   "id": "909052e2",
   "metadata": {},
   "source": [
    "Check the status of your load job using `%load_status` magics. The `--errors` tells you what the error is exactly if the load job fails."
   ]
  },
  {
   "cell_type": "code",
   "execution_count": null,
   "id": "7c595429",
   "metadata": {},
   "outputs": [],
   "source": [
    "%load_status {load_id['payload']['loadId']} --errors --details"
   ]
  }
 ],
 "metadata": {
  "kernelspec": {
   "display_name": "conda_amazonei_mxnet_p36",
   "language": "python",
   "name": "conda_amazonei_mxnet_p36"
  },
  "language_info": {
   "codemirror_mode": {
    "name": "ipython",
    "version": 3
   },
   "file_extension": ".py",
   "mimetype": "text/x-python",
   "name": "python",
   "nbconvert_exporter": "python",
   "pygments_lexer": "ipython3",
   "version": "3.6.13"
  }
 },
 "nbformat": 4,
 "nbformat_minor": 5
}
